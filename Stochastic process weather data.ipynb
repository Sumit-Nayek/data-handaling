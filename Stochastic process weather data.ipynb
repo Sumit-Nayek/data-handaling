{
 "cells": [
  {
   "cell_type": "code",
   "execution_count": 1,
   "id": "b4301b86",
   "metadata": {},
   "outputs": [],
   "source": [
    "import numpy as np \n",
    "import pandas as pd\n",
    "import seaborn as sns\n",
    "data=pd.read_csv('C:\\\\Users\\\\Amit\\\\Desktop\\\\sumit work\\\\data\\\\weather_description\\\\weather_description.csv')"
   ]
  },
  {
   "cell_type": "code",
   "execution_count": 2,
   "id": "3842ee60",
   "metadata": {
    "scrolled": true
   },
   "outputs": [
    {
     "data": {
      "text/html": [
       "<div>\n",
       "<style scoped>\n",
       "    .dataframe tbody tr th:only-of-type {\n",
       "        vertical-align: middle;\n",
       "    }\n",
       "\n",
       "    .dataframe tbody tr th {\n",
       "        vertical-align: top;\n",
       "    }\n",
       "\n",
       "    .dataframe thead th {\n",
       "        text-align: right;\n",
       "    }\n",
       "</style>\n",
       "<table border=\"1\" class=\"dataframe\">\n",
       "  <thead>\n",
       "    <tr style=\"text-align: right;\">\n",
       "      <th></th>\n",
       "      <th>datetime</th>\n",
       "      <th>Vancouver</th>\n",
       "      <th>Portland</th>\n",
       "      <th>San Francisco</th>\n",
       "      <th>Seattle</th>\n",
       "      <th>Los Angeles</th>\n",
       "      <th>San Diego</th>\n",
       "      <th>Las Vegas</th>\n",
       "      <th>Phoenix</th>\n",
       "      <th>Albuquerque</th>\n",
       "      <th>...</th>\n",
       "      <th>Philadelphia</th>\n",
       "      <th>New York</th>\n",
       "      <th>Montreal</th>\n",
       "      <th>Boston</th>\n",
       "      <th>Beersheba</th>\n",
       "      <th>Tel Aviv District</th>\n",
       "      <th>Eilat</th>\n",
       "      <th>Haifa</th>\n",
       "      <th>Nahariyya</th>\n",
       "      <th>Jerusalem</th>\n",
       "    </tr>\n",
       "  </thead>\n",
       "  <tbody>\n",
       "    <tr>\n",
       "      <th>0</th>\n",
       "      <td>2012-10-01 12:00:00</td>\n",
       "      <td>NaN</td>\n",
       "      <td>NaN</td>\n",
       "      <td>NaN</td>\n",
       "      <td>NaN</td>\n",
       "      <td>NaN</td>\n",
       "      <td>NaN</td>\n",
       "      <td>NaN</td>\n",
       "      <td>NaN</td>\n",
       "      <td>NaN</td>\n",
       "      <td>...</td>\n",
       "      <td>NaN</td>\n",
       "      <td>NaN</td>\n",
       "      <td>NaN</td>\n",
       "      <td>NaN</td>\n",
       "      <td>NaN</td>\n",
       "      <td>NaN</td>\n",
       "      <td>haze</td>\n",
       "      <td>NaN</td>\n",
       "      <td>NaN</td>\n",
       "      <td>NaN</td>\n",
       "    </tr>\n",
       "    <tr>\n",
       "      <th>1</th>\n",
       "      <td>2012-10-01 13:00:00</td>\n",
       "      <td>mist</td>\n",
       "      <td>scattered clouds</td>\n",
       "      <td>light rain</td>\n",
       "      <td>sky is clear</td>\n",
       "      <td>mist</td>\n",
       "      <td>sky is clear</td>\n",
       "      <td>sky is clear</td>\n",
       "      <td>sky is clear</td>\n",
       "      <td>sky is clear</td>\n",
       "      <td>...</td>\n",
       "      <td>broken clouds</td>\n",
       "      <td>few clouds</td>\n",
       "      <td>overcast clouds</td>\n",
       "      <td>sky is clear</td>\n",
       "      <td>sky is clear</td>\n",
       "      <td>sky is clear</td>\n",
       "      <td>haze</td>\n",
       "      <td>sky is clear</td>\n",
       "      <td>sky is clear</td>\n",
       "      <td>sky is clear</td>\n",
       "    </tr>\n",
       "    <tr>\n",
       "      <th>2</th>\n",
       "      <td>2012-10-01 14:00:00</td>\n",
       "      <td>broken clouds</td>\n",
       "      <td>scattered clouds</td>\n",
       "      <td>sky is clear</td>\n",
       "      <td>sky is clear</td>\n",
       "      <td>sky is clear</td>\n",
       "      <td>sky is clear</td>\n",
       "      <td>sky is clear</td>\n",
       "      <td>sky is clear</td>\n",
       "      <td>sky is clear</td>\n",
       "      <td>...</td>\n",
       "      <td>broken clouds</td>\n",
       "      <td>few clouds</td>\n",
       "      <td>sky is clear</td>\n",
       "      <td>few clouds</td>\n",
       "      <td>sky is clear</td>\n",
       "      <td>sky is clear</td>\n",
       "      <td>broken clouds</td>\n",
       "      <td>overcast clouds</td>\n",
       "      <td>sky is clear</td>\n",
       "      <td>overcast clouds</td>\n",
       "    </tr>\n",
       "    <tr>\n",
       "      <th>3</th>\n",
       "      <td>2012-10-01 15:00:00</td>\n",
       "      <td>broken clouds</td>\n",
       "      <td>scattered clouds</td>\n",
       "      <td>sky is clear</td>\n",
       "      <td>sky is clear</td>\n",
       "      <td>sky is clear</td>\n",
       "      <td>sky is clear</td>\n",
       "      <td>sky is clear</td>\n",
       "      <td>sky is clear</td>\n",
       "      <td>sky is clear</td>\n",
       "      <td>...</td>\n",
       "      <td>broken clouds</td>\n",
       "      <td>few clouds</td>\n",
       "      <td>sky is clear</td>\n",
       "      <td>few clouds</td>\n",
       "      <td>overcast clouds</td>\n",
       "      <td>sky is clear</td>\n",
       "      <td>broken clouds</td>\n",
       "      <td>overcast clouds</td>\n",
       "      <td>overcast clouds</td>\n",
       "      <td>overcast clouds</td>\n",
       "    </tr>\n",
       "    <tr>\n",
       "      <th>4</th>\n",
       "      <td>2012-10-01 16:00:00</td>\n",
       "      <td>broken clouds</td>\n",
       "      <td>scattered clouds</td>\n",
       "      <td>sky is clear</td>\n",
       "      <td>sky is clear</td>\n",
       "      <td>sky is clear</td>\n",
       "      <td>sky is clear</td>\n",
       "      <td>sky is clear</td>\n",
       "      <td>sky is clear</td>\n",
       "      <td>sky is clear</td>\n",
       "      <td>...</td>\n",
       "      <td>broken clouds</td>\n",
       "      <td>few clouds</td>\n",
       "      <td>sky is clear</td>\n",
       "      <td>few clouds</td>\n",
       "      <td>overcast clouds</td>\n",
       "      <td>sky is clear</td>\n",
       "      <td>broken clouds</td>\n",
       "      <td>overcast clouds</td>\n",
       "      <td>overcast clouds</td>\n",
       "      <td>overcast clouds</td>\n",
       "    </tr>\n",
       "  </tbody>\n",
       "</table>\n",
       "<p>5 rows × 37 columns</p>\n",
       "</div>"
      ],
      "text/plain": [
       "              datetime      Vancouver          Portland San Francisco  \\\n",
       "0  2012-10-01 12:00:00            NaN               NaN           NaN   \n",
       "1  2012-10-01 13:00:00           mist  scattered clouds    light rain   \n",
       "2  2012-10-01 14:00:00  broken clouds  scattered clouds  sky is clear   \n",
       "3  2012-10-01 15:00:00  broken clouds  scattered clouds  sky is clear   \n",
       "4  2012-10-01 16:00:00  broken clouds  scattered clouds  sky is clear   \n",
       "\n",
       "        Seattle   Los Angeles     San Diego     Las Vegas       Phoenix  \\\n",
       "0           NaN           NaN           NaN           NaN           NaN   \n",
       "1  sky is clear          mist  sky is clear  sky is clear  sky is clear   \n",
       "2  sky is clear  sky is clear  sky is clear  sky is clear  sky is clear   \n",
       "3  sky is clear  sky is clear  sky is clear  sky is clear  sky is clear   \n",
       "4  sky is clear  sky is clear  sky is clear  sky is clear  sky is clear   \n",
       "\n",
       "    Albuquerque  ...   Philadelphia    New York         Montreal  \\\n",
       "0           NaN  ...            NaN         NaN              NaN   \n",
       "1  sky is clear  ...  broken clouds  few clouds  overcast clouds   \n",
       "2  sky is clear  ...  broken clouds  few clouds     sky is clear   \n",
       "3  sky is clear  ...  broken clouds  few clouds     sky is clear   \n",
       "4  sky is clear  ...  broken clouds  few clouds     sky is clear   \n",
       "\n",
       "         Boston        Beersheba Tel Aviv District          Eilat  \\\n",
       "0           NaN              NaN               NaN           haze   \n",
       "1  sky is clear     sky is clear      sky is clear           haze   \n",
       "2    few clouds     sky is clear      sky is clear  broken clouds   \n",
       "3    few clouds  overcast clouds      sky is clear  broken clouds   \n",
       "4    few clouds  overcast clouds      sky is clear  broken clouds   \n",
       "\n",
       "             Haifa        Nahariyya        Jerusalem  \n",
       "0              NaN              NaN              NaN  \n",
       "1     sky is clear     sky is clear     sky is clear  \n",
       "2  overcast clouds     sky is clear  overcast clouds  \n",
       "3  overcast clouds  overcast clouds  overcast clouds  \n",
       "4  overcast clouds  overcast clouds  overcast clouds  \n",
       "\n",
       "[5 rows x 37 columns]"
      ]
     },
     "execution_count": 2,
     "metadata": {},
     "output_type": "execute_result"
    }
   ],
   "source": [
    "data.head()"
   ]
  },
  {
   "cell_type": "markdown",
   "id": "b2537c91",
   "metadata": {},
   "source": [
    "## Checking for missing values in the dataset"
   ]
  },
  {
   "cell_type": "code",
   "execution_count": 3,
   "id": "d11ccc15",
   "metadata": {
    "scrolled": true
   },
   "outputs": [
    {
     "data": {
      "text/plain": [
       "datetime               0\n",
       "Vancouver            793\n",
       "Portland               1\n",
       "San Francisco        793\n",
       "Seattle                1\n",
       "Los Angeles            1\n",
       "San Diego              1\n",
       "Las Vegas              1\n",
       "Phoenix                1\n",
       "Albuquerque            1\n",
       "Denver                 1\n",
       "San Antonio            1\n",
       "Dallas                 1\n",
       "Houston                1\n",
       "Kansas City            1\n",
       "Minneapolis            1\n",
       "Saint Louis            1\n",
       "Chicago                1\n",
       "Nashville              1\n",
       "Indianapolis           1\n",
       "Atlanta                1\n",
       "Detroit                1\n",
       "Jacksonville           1\n",
       "Charlotte              1\n",
       "Miami                793\n",
       "Pittsburgh             1\n",
       "Toronto                1\n",
       "Philadelphia           1\n",
       "New York             793\n",
       "Montreal               1\n",
       "Boston                 1\n",
       "Beersheba            793\n",
       "Tel Aviv District    793\n",
       "Eilat                792\n",
       "Haifa                793\n",
       "Nahariyya            793\n",
       "Jerusalem            793\n",
       "dtype: int64"
      ]
     },
     "execution_count": 3,
     "metadata": {},
     "output_type": "execute_result"
    }
   ],
   "source": [
    "data.isnull().sum()"
   ]
  },
  {
   "cell_type": "markdown",
   "id": "9ba5bf09",
   "metadata": {},
   "source": [
    "## Creating a new data frame and droping the missing values from the dataset"
   ]
  },
  {
   "cell_type": "code",
   "execution_count": 4,
   "id": "508fc0d2",
   "metadata": {
    "scrolled": true
   },
   "outputs": [
    {
     "data": {
      "text/html": [
       "<div>\n",
       "<style scoped>\n",
       "    .dataframe tbody tr th:only-of-type {\n",
       "        vertical-align: middle;\n",
       "    }\n",
       "\n",
       "    .dataframe tbody tr th {\n",
       "        vertical-align: top;\n",
       "    }\n",
       "\n",
       "    .dataframe thead th {\n",
       "        text-align: right;\n",
       "    }\n",
       "</style>\n",
       "<table border=\"1\" class=\"dataframe\">\n",
       "  <thead>\n",
       "    <tr style=\"text-align: right;\">\n",
       "      <th></th>\n",
       "      <th>datetime</th>\n",
       "      <th>Los Angeles</th>\n",
       "      <th>Las Vegas</th>\n",
       "    </tr>\n",
       "  </thead>\n",
       "  <tbody>\n",
       "    <tr>\n",
       "      <th>1</th>\n",
       "      <td>2012-10-01 13:00:00</td>\n",
       "      <td>mist</td>\n",
       "      <td>sky is clear</td>\n",
       "    </tr>\n",
       "    <tr>\n",
       "      <th>2</th>\n",
       "      <td>2012-10-01 14:00:00</td>\n",
       "      <td>sky is clear</td>\n",
       "      <td>sky is clear</td>\n",
       "    </tr>\n",
       "    <tr>\n",
       "      <th>3</th>\n",
       "      <td>2012-10-01 15:00:00</td>\n",
       "      <td>sky is clear</td>\n",
       "      <td>sky is clear</td>\n",
       "    </tr>\n",
       "    <tr>\n",
       "      <th>4</th>\n",
       "      <td>2012-10-01 16:00:00</td>\n",
       "      <td>sky is clear</td>\n",
       "      <td>sky is clear</td>\n",
       "    </tr>\n",
       "    <tr>\n",
       "      <th>5</th>\n",
       "      <td>2012-10-01 17:00:00</td>\n",
       "      <td>sky is clear</td>\n",
       "      <td>sky is clear</td>\n",
       "    </tr>\n",
       "  </tbody>\n",
       "</table>\n",
       "</div>"
      ],
      "text/plain": [
       "              datetime   Los Angeles     Las Vegas\n",
       "1  2012-10-01 13:00:00          mist  sky is clear\n",
       "2  2012-10-01 14:00:00  sky is clear  sky is clear\n",
       "3  2012-10-01 15:00:00  sky is clear  sky is clear\n",
       "4  2012-10-01 16:00:00  sky is clear  sky is clear\n",
       "5  2012-10-01 17:00:00  sky is clear  sky is clear"
      ]
     },
     "execution_count": 4,
     "metadata": {},
     "output_type": "execute_result"
    }
   ],
   "source": [
    "df=data[['datetime','Los Angeles','Las Vegas']]\n",
    "df=df.dropna()\n",
    "df.head()"
   ]
  },
  {
   "cell_type": "markdown",
   "id": "e416f3a1",
   "metadata": {},
   "source": [
    "## Number of different labels in the given data"
   ]
  },
  {
   "cell_type": "code",
   "execution_count": 5,
   "id": "482e5dab",
   "metadata": {
    "scrolled": false
   },
   "outputs": [
    {
     "name": "stdout",
     "output_type": "stream",
     "text": [
      "datetime : 45252 labels\n",
      "Los Angeles : 25 labels\n",
      "Las Vegas : 23 labels\n"
     ]
    }
   ],
   "source": [
    "for feature in df.columns[:]:\n",
    "    print(feature,\":\",len(df[feature].unique()),'labels')"
   ]
  },
  {
   "cell_type": "markdown",
   "id": "a5eef3e3",
   "metadata": {},
   "source": [
    "## Different type of unique weather condition on Los Angeles state"
   ]
  },
  {
   "cell_type": "code",
   "execution_count": 6,
   "id": "520d909e",
   "metadata": {},
   "outputs": [
    {
     "data": {
      "text/plain": [
       "array(['mist', 'sky is clear', 'fog', 'haze', 'few clouds',\n",
       "       'overcast clouds', 'scattered clouds', 'broken clouds',\n",
       "       'light rain', 'thunderstorm with rain', 'moderate rain',\n",
       "       'thunderstorm', 'shower rain', 'smoke', 'drizzle',\n",
       "       'light intensity drizzle', 'heavy intensity rain',\n",
       "       'light intensity shower rain', 'very heavy rain',\n",
       "       'thunderstorm with light rain', 'proximity thunderstorm',\n",
       "       'thunderstorm with heavy rain', 'squalls', 'dust',\n",
       "       'proximity shower rain'], dtype=object)"
      ]
     },
     "execution_count": 6,
     "metadata": {},
     "output_type": "execute_result"
    }
   ],
   "source": [
    "df['Los Angeles'].unique()"
   ]
  },
  {
   "cell_type": "code",
   "execution_count": 7,
   "id": "5d2ac88e",
   "metadata": {},
   "outputs": [],
   "source": [
    "df['datetime']=pd.to_datetime(df['datetime'])"
   ]
  },
  {
   "cell_type": "code",
   "execution_count": 8,
   "id": "e0549881",
   "metadata": {},
   "outputs": [
    {
     "data": {
      "text/plain": [
       "1           Monday\n",
       "2           Monday\n",
       "3           Monday\n",
       "4           Monday\n",
       "5           Monday\n",
       "           ...    \n",
       "45248    Wednesday\n",
       "45249    Wednesday\n",
       "45250    Wednesday\n",
       "45251    Wednesday\n",
       "45252     Thursday\n",
       "Name: datetime, Length: 45252, dtype: object"
      ]
     },
     "execution_count": 8,
     "metadata": {},
     "output_type": "execute_result"
    }
   ],
   "source": [
    "df['datetime'].dt.day_name()"
   ]
  },
  {
   "cell_type": "code",
   "execution_count": 9,
   "id": "2f5102d1",
   "metadata": {},
   "outputs": [
    {
     "data": {
      "text/plain": [
       "Timestamp('2012-10-01 13:00:00')"
      ]
     },
     "execution_count": 9,
     "metadata": {},
     "output_type": "execute_result"
    }
   ],
   "source": [
    "df['datetime'].min()"
   ]
  },
  {
   "cell_type": "code",
   "execution_count": 10,
   "id": "7ea1666c",
   "metadata": {},
   "outputs": [
    {
     "data": {
      "text/plain": [
       "Timestamp('2017-11-30 00:00:00')"
      ]
     },
     "execution_count": 10,
     "metadata": {},
     "output_type": "execute_result"
    }
   ],
   "source": [
    "df['datetime'].max()"
   ]
  },
  {
   "cell_type": "code",
   "execution_count": 11,
   "id": "d5908082",
   "metadata": {},
   "outputs": [
    {
     "data": {
      "text/plain": [
       "Timedelta('1885 days 11:00:00')"
      ]
     },
     "execution_count": 11,
     "metadata": {},
     "output_type": "execute_result"
    }
   ],
   "source": [
    "df['datetime'].max()-df['datetime'].min()"
   ]
  },
  {
   "cell_type": "markdown",
   "id": "ab63ef1c",
   "metadata": {},
   "source": [
    "## Making a dummy variable to make the object data type to a categorical data type and name it as B\n",
    "You can aviod this part if you want. "
   ]
  },
  {
   "cell_type": "code",
   "execution_count": 12,
   "id": "51a8c7b6",
   "metadata": {},
   "outputs": [
    {
     "name": "stdout",
     "output_type": "stream",
     "text": [
      "<class 'pandas.core.frame.DataFrame'>\n",
      "Int64Index: 45252 entries, 1 to 45252\n",
      "Data columns (total 4 columns):\n",
      " #   Column       Non-Null Count  Dtype         \n",
      "---  ------       --------------  -----         \n",
      " 0   datetime     45252 non-null  datetime64[ns]\n",
      " 1   Los Angeles  45252 non-null  object        \n",
      " 2   Las Vegas    45252 non-null  object        \n",
      " 3   B            45252 non-null  category      \n",
      "dtypes: category(1), datetime64[ns](1), object(2)\n",
      "memory usage: 1.4+ MB\n"
     ]
    }
   ],
   "source": [
    "df[\"B\"] = df['Los Angeles'].astype(\"category\")\n",
    "df.info()"
   ]
  },
  {
   "cell_type": "code",
   "execution_count": 13,
   "id": "a00299c2",
   "metadata": {
    "scrolled": true
   },
   "outputs": [
    {
     "data": {
      "text/plain": [
       "1                mist\n",
       "2        sky is clear\n",
       "3        sky is clear\n",
       "4        sky is clear\n",
       "5        sky is clear\n",
       "             ...     \n",
       "45248    sky is clear\n",
       "45249    sky is clear\n",
       "45250    sky is clear\n",
       "45251    sky is clear\n",
       "45252    sky is clear\n",
       "Name: B, Length: 45252, dtype: category\n",
       "Categories (25, object): ['broken clouds', 'drizzle', 'dust', 'few clouds', ..., 'thunderstorm with heavy rain', 'thunderstorm with light rain', 'thunderstorm with rain', 'very heavy rain']"
      ]
     },
     "execution_count": 13,
     "metadata": {},
     "output_type": "execute_result"
    }
   ],
   "source": [
    "df=df.dropna()\n",
    "df['B']"
   ]
  },
  {
   "cell_type": "markdown",
   "id": "23059123",
   "metadata": {},
   "source": [
    "## Finding the frequencies of the different unique weather situation"
   ]
  },
  {
   "cell_type": "code",
   "execution_count": 14,
   "id": "8edd3257",
   "metadata": {
    "scrolled": false
   },
   "outputs": [
    {
     "data": {
      "text/plain": [
       "sky is clear                    26136\n",
       "haze                             3532\n",
       "mist                             2961\n",
       "broken clouds                    2565\n",
       "overcast clouds                  2432\n",
       "scattered clouds                 2271\n",
       "light rain                       1949\n",
       "few clouds                       1757\n",
       "fog                               566\n",
       "moderate rain                     481\n",
       "smoke                             203\n",
       "heavy intensity rain              127\n",
       "light intensity drizzle           104\n",
       "dust                               66\n",
       "proximity thunderstorm             25\n",
       "very heavy rain                    20\n",
       "thunderstorm                       17\n",
       "thunderstorm with light rain       13\n",
       "shower rain                         8\n",
       "drizzle                             5\n",
       "proximity shower rain               4\n",
       "light intensity shower rain         3\n",
       "squalls                             3\n",
       "thunderstorm with heavy rain        2\n",
       "thunderstorm with rain              2\n",
       "Name: Los Angeles, dtype: int64"
      ]
     },
     "execution_count": 14,
     "metadata": {},
     "output_type": "execute_result"
    }
   ],
   "source": [
    "df['Los Angeles'].value_counts()"
   ]
  },
  {
   "cell_type": "markdown",
   "id": "ff830ec9",
   "metadata": {},
   "source": [
    "## Replacing categorial values with it's frequancy"
   ]
  },
  {
   "cell_type": "code",
   "execution_count": 15,
   "id": "e11acd4c",
   "metadata": {},
   "outputs": [],
   "source": [
    "weather_map=df['Los Angeles'].value_counts().to_dict()"
   ]
  },
  {
   "cell_type": "code",
   "execution_count": 16,
   "id": "ebfdbd58",
   "metadata": {
    "scrolled": false
   },
   "outputs": [
    {
     "data": {
      "text/html": [
       "<div>\n",
       "<style scoped>\n",
       "    .dataframe tbody tr th:only-of-type {\n",
       "        vertical-align: middle;\n",
       "    }\n",
       "\n",
       "    .dataframe tbody tr th {\n",
       "        vertical-align: top;\n",
       "    }\n",
       "\n",
       "    .dataframe thead th {\n",
       "        text-align: right;\n",
       "    }\n",
       "</style>\n",
       "<table border=\"1\" class=\"dataframe\">\n",
       "  <thead>\n",
       "    <tr style=\"text-align: right;\">\n",
       "      <th></th>\n",
       "      <th>datetime</th>\n",
       "      <th>Los Angeles</th>\n",
       "      <th>Las Vegas</th>\n",
       "      <th>B</th>\n",
       "    </tr>\n",
       "  </thead>\n",
       "  <tbody>\n",
       "    <tr>\n",
       "      <th>1</th>\n",
       "      <td>2012-10-01 13:00:00</td>\n",
       "      <td>2961</td>\n",
       "      <td>sky is clear</td>\n",
       "      <td>mist</td>\n",
       "    </tr>\n",
       "    <tr>\n",
       "      <th>2</th>\n",
       "      <td>2012-10-01 14:00:00</td>\n",
       "      <td>26136</td>\n",
       "      <td>sky is clear</td>\n",
       "      <td>sky is clear</td>\n",
       "    </tr>\n",
       "    <tr>\n",
       "      <th>3</th>\n",
       "      <td>2012-10-01 15:00:00</td>\n",
       "      <td>26136</td>\n",
       "      <td>sky is clear</td>\n",
       "      <td>sky is clear</td>\n",
       "    </tr>\n",
       "    <tr>\n",
       "      <th>4</th>\n",
       "      <td>2012-10-01 16:00:00</td>\n",
       "      <td>26136</td>\n",
       "      <td>sky is clear</td>\n",
       "      <td>sky is clear</td>\n",
       "    </tr>\n",
       "    <tr>\n",
       "      <th>5</th>\n",
       "      <td>2012-10-01 17:00:00</td>\n",
       "      <td>26136</td>\n",
       "      <td>sky is clear</td>\n",
       "      <td>sky is clear</td>\n",
       "    </tr>\n",
       "    <tr>\n",
       "      <th>6</th>\n",
       "      <td>2012-10-01 18:00:00</td>\n",
       "      <td>26136</td>\n",
       "      <td>sky is clear</td>\n",
       "      <td>sky is clear</td>\n",
       "    </tr>\n",
       "    <tr>\n",
       "      <th>7</th>\n",
       "      <td>2012-10-01 19:00:00</td>\n",
       "      <td>26136</td>\n",
       "      <td>sky is clear</td>\n",
       "      <td>sky is clear</td>\n",
       "    </tr>\n",
       "    <tr>\n",
       "      <th>8</th>\n",
       "      <td>2012-10-01 20:00:00</td>\n",
       "      <td>26136</td>\n",
       "      <td>sky is clear</td>\n",
       "      <td>sky is clear</td>\n",
       "    </tr>\n",
       "    <tr>\n",
       "      <th>9</th>\n",
       "      <td>2012-10-01 21:00:00</td>\n",
       "      <td>26136</td>\n",
       "      <td>sky is clear</td>\n",
       "      <td>sky is clear</td>\n",
       "    </tr>\n",
       "    <tr>\n",
       "      <th>10</th>\n",
       "      <td>2012-10-01 22:00:00</td>\n",
       "      <td>26136</td>\n",
       "      <td>sky is clear</td>\n",
       "      <td>sky is clear</td>\n",
       "    </tr>\n",
       "  </tbody>\n",
       "</table>\n",
       "</div>"
      ],
      "text/plain": [
       "              datetime  Los Angeles     Las Vegas             B\n",
       "1  2012-10-01 13:00:00         2961  sky is clear          mist\n",
       "2  2012-10-01 14:00:00        26136  sky is clear  sky is clear\n",
       "3  2012-10-01 15:00:00        26136  sky is clear  sky is clear\n",
       "4  2012-10-01 16:00:00        26136  sky is clear  sky is clear\n",
       "5  2012-10-01 17:00:00        26136  sky is clear  sky is clear\n",
       "6  2012-10-01 18:00:00        26136  sky is clear  sky is clear\n",
       "7  2012-10-01 19:00:00        26136  sky is clear  sky is clear\n",
       "8  2012-10-01 20:00:00        26136  sky is clear  sky is clear\n",
       "9  2012-10-01 21:00:00        26136  sky is clear  sky is clear\n",
       "10 2012-10-01 22:00:00        26136  sky is clear  sky is clear"
      ]
     },
     "execution_count": 16,
     "metadata": {},
     "output_type": "execute_result"
    }
   ],
   "source": [
    "df['Los Angeles']=df['Los Angeles'].map(weather_map)\n",
    "df.head(10)"
   ]
  },
  {
   "cell_type": "markdown",
   "id": "3c7a5ce1",
   "metadata": {},
   "source": [
    "### Checking how many unique weather situation are there just to make sure it is a well replica of the Los Angeles state values"
   ]
  },
  {
   "cell_type": "code",
   "execution_count": 17,
   "id": "734a2d1e",
   "metadata": {
    "scrolled": true
   },
   "outputs": [
    {
     "data": {
      "text/plain": [
       "['mist', 'sky is clear', 'fog', 'haze', 'few clouds', ..., 'proximity thunderstorm', 'thunderstorm with heavy rain', 'squalls', 'dust', 'proximity shower rain']\n",
       "Length: 25\n",
       "Categories (25, object): ['mist', 'sky is clear', 'fog', 'haze', ..., 'thunderstorm with heavy rain', 'squalls', 'dust', 'proximity shower rain']"
      ]
     },
     "execution_count": 17,
     "metadata": {},
     "output_type": "execute_result"
    }
   ],
   "source": [
    "df['B'].unique()"
   ]
  },
  {
   "cell_type": "markdown",
   "id": "41d81288",
   "metadata": {},
   "source": [
    "## Taking the first Character as the representer of the category to reduce the number of weather states"
   ]
  },
  {
   "cell_type": "code",
   "execution_count": 18,
   "id": "641664cd",
   "metadata": {
    "scrolled": false
   },
   "outputs": [
    {
     "data": {
      "text/html": [
       "<div>\n",
       "<style scoped>\n",
       "    .dataframe tbody tr th:only-of-type {\n",
       "        vertical-align: middle;\n",
       "    }\n",
       "\n",
       "    .dataframe tbody tr th {\n",
       "        vertical-align: top;\n",
       "    }\n",
       "\n",
       "    .dataframe thead th {\n",
       "        text-align: right;\n",
       "    }\n",
       "</style>\n",
       "<table border=\"1\" class=\"dataframe\">\n",
       "  <thead>\n",
       "    <tr style=\"text-align: right;\">\n",
       "      <th></th>\n",
       "      <th>datetime</th>\n",
       "      <th>Los Angeles</th>\n",
       "      <th>Las Vegas</th>\n",
       "      <th>B</th>\n",
       "    </tr>\n",
       "  </thead>\n",
       "  <tbody>\n",
       "    <tr>\n",
       "      <th>1</th>\n",
       "      <td>2012-10-01 13:00:00</td>\n",
       "      <td>2961</td>\n",
       "      <td>sky is clear</td>\n",
       "      <td>m</td>\n",
       "    </tr>\n",
       "    <tr>\n",
       "      <th>2</th>\n",
       "      <td>2012-10-01 14:00:00</td>\n",
       "      <td>26136</td>\n",
       "      <td>sky is clear</td>\n",
       "      <td>s</td>\n",
       "    </tr>\n",
       "    <tr>\n",
       "      <th>3</th>\n",
       "      <td>2012-10-01 15:00:00</td>\n",
       "      <td>26136</td>\n",
       "      <td>sky is clear</td>\n",
       "      <td>s</td>\n",
       "    </tr>\n",
       "    <tr>\n",
       "      <th>4</th>\n",
       "      <td>2012-10-01 16:00:00</td>\n",
       "      <td>26136</td>\n",
       "      <td>sky is clear</td>\n",
       "      <td>s</td>\n",
       "    </tr>\n",
       "    <tr>\n",
       "      <th>5</th>\n",
       "      <td>2012-10-01 17:00:00</td>\n",
       "      <td>26136</td>\n",
       "      <td>sky is clear</td>\n",
       "      <td>s</td>\n",
       "    </tr>\n",
       "  </tbody>\n",
       "</table>\n",
       "</div>"
      ],
      "text/plain": [
       "             datetime  Los Angeles     Las Vegas  B\n",
       "1 2012-10-01 13:00:00         2961  sky is clear  m\n",
       "2 2012-10-01 14:00:00        26136  sky is clear  s\n",
       "3 2012-10-01 15:00:00        26136  sky is clear  s\n",
       "4 2012-10-01 16:00:00        26136  sky is clear  s\n",
       "5 2012-10-01 17:00:00        26136  sky is clear  s"
      ]
     },
     "execution_count": 18,
     "metadata": {},
     "output_type": "execute_result"
    }
   ],
   "source": [
    "df['B']=df['B'].astype(str).str[0]\n",
    "df.head()"
   ]
  },
  {
   "cell_type": "markdown",
   "id": "db28e1d6",
   "metadata": {},
   "source": [
    "### How many weather state has been change in the process and there corrosponding frequancies"
   ]
  },
  {
   "cell_type": "code",
   "execution_count": 19,
   "id": "47e5cb5f",
   "metadata": {
    "scrolled": true
   },
   "outputs": [
    {
     "data": {
      "text/plain": [
       "array(['m', 's', 'f', 'h', 'o', 'b', 'l', 't', 'd', 'v', 'p'],\n",
       "      dtype=object)"
      ]
     },
     "execution_count": 19,
     "metadata": {},
     "output_type": "execute_result"
    }
   ],
   "source": [
    "df['B'].unique()"
   ]
  },
  {
   "cell_type": "code",
   "execution_count": 20,
   "id": "3604b3b3",
   "metadata": {
    "scrolled": true
   },
   "outputs": [
    {
     "data": {
      "text/plain": [
       "s    28621\n",
       "h     3659\n",
       "m     3442\n",
       "b     2565\n",
       "o     2432\n",
       "f     2323\n",
       "l     2056\n",
       "d       71\n",
       "t       34\n",
       "p       29\n",
       "v       20\n",
       "Name: B, dtype: int64"
      ]
     },
     "execution_count": 20,
     "metadata": {},
     "output_type": "execute_result"
    }
   ],
   "source": [
    "df['B'].value_counts()"
   ]
  },
  {
   "cell_type": "code",
   "execution_count": null,
   "id": "1c7f1cce",
   "metadata": {},
   "outputs": [],
   "source": []
  }
 ],
 "metadata": {
  "kernelspec": {
   "display_name": "Python 3",
   "language": "python",
   "name": "python3"
  },
  "language_info": {
   "codemirror_mode": {
    "name": "ipython",
    "version": 3
   },
   "file_extension": ".py",
   "mimetype": "text/x-python",
   "name": "python",
   "nbconvert_exporter": "python",
   "pygments_lexer": "ipython3",
   "version": "3.9.5"
  }
 },
 "nbformat": 4,
 "nbformat_minor": 5
}
